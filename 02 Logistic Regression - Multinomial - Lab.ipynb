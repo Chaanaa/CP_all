{
 "cells": [
  {
   "cell_type": "markdown",
   "metadata": {},
   "source": [
    "### === Task ===\n",
    "\n",
    "1. With the iris data given in class, implement train_test_split from scratch.\n",
    "\n",
    "2. Put everything into a class called LogisticRegression, this class should allow you choose any of the training methods you'd like including \"batch\", \"minibatch\" and \"sto\". However, if the input method is not one of the three, it should \"raise ValueError\".\n",
    "\n",
    "3. Calculate time taken to fit your models using different training methods.\n",
    "\n",
    "4. Perform a classification on the dataset using all 3 methods and also show what happens if your defined training method is not either \"batch\", \"minibatch\" or \"sto\". Make sure to plot the training losses.\n",
    "\n",
    "5. Simply, use classification_report from sklearn.metrics to evaluate your models.\n",
    "\n",
    "6. Discuss your results ie. training losses of the three methods and time taken to fit models."
   ]
  },
  {
   "cell_type": "code",
   "execution_count": 1,
   "metadata": {},
   "outputs": [],
   "source": [
    "from sklearn import datasets\n",
    "from sklearn.preprocessing import StandardScaler\n",
    "from sklearn.model_selection import train_test_split\n",
    "from sklearn.metrics import classification_report\n",
    "import numpy as np\n",
    "import matplotlib.pyplot as plt\n",
    "import time\n",
    "\n",
    "# Step 1 : Prepare data\n",
    "iris = datasets.load_iris()           \n",
    "X = iris.data[:, 2:]  \n",
    "y = iris.target  \n",
    "\n",
    "# Feature scaling \n",
    "scaler = StandardScaler()\n",
    "X = scaler.fit_transform(X)\n",
    "\n",
    "# Split data\n",
    "X_train, X_test, y_train, y_test = train_test_split(X, y, test_size=0.3)\n",
    "\n",
    "# Add intercept                                                         \n",
    "intercept = np.ones((X_train.shape[0], 1))\n",
    "X_train   = np.concatenate((intercept, X_train), axis=1)  \n",
    "intercept = np.ones((X_test.shape[0], 1))\n",
    "X_test    = np.concatenate((intercept, X_test), axis=1) \n",
    "\n",
    "# y is in the shape of (m, k)\n",
    "k = len(set(y))  # no. of class  \n",
    "    #(len(np.unique(y)))\n",
    "m = X_train.shape[0]  # no.of samples\n",
    "n = X_train.shape[1]  # no.of features\n",
    "\n",
    "Y_train_encoded = np.zeros((m, k)) \n",
    "\n",
    "for each_class in range(k):\n",
    "    cond = y_train==each_class\n",
    "    Y_train_encoded[np.where(cond), each_class] = 1"
   ]
  },
  {
   "cell_type": "code",
   "execution_count": 2,
   "metadata": {},
   "outputs": [
    {
     "data": {
      "image/png": "[encoded data removed]",
      "text/plain": [
       "<Figure size 432x432 with 1 Axes>"
      ]
     },
     "metadata": {
      "needs_background": "light"
     },
     "output_type": "display_data"
    }
   ],
   "source": [
    "#(op) Visualize the data's distribution : separate well or not\n",
    "\n",
    "plt.figure(figsize=(6,6))\n",
    "plt.scatter(X[:, 0], X[:, 1], c=y, label='class 0')\n",
    "plt.show()"
   ]
  },
  {
   "cell_type": "code",
   "execution_count": 8,
   "metadata": {},
   "outputs": [],
   "source": [
    "# Step 2 : Fit data\n",
    "\n",
    "class LogisticRegression :\n",
    "    \n",
    "    def __init__(self, k, n, method, alpha = 0.001, max_iter=10000):\n",
    "        self.k = k\n",
    "        self.n = n\n",
    "        self.alpha = alpha                          \n",
    "        self.max_iter = max_iter\n",
    "        self.method = method\n",
    "    \n",
    "    def fit(self, X, Y):\n",
    "        self.W = np.random.rand(self.n, self.k)    \n",
    "                 #(np.zeros((self.n, self.k)))          \n",
    "                 #np.ones((self.n, self.k))\n",
    "        self.losses = []             \n",
    "        \n",
    "        if self.method == \"batch\":\n",
    "            start_time = time.time()                        \n",
    "            for i in range(self.max_iter):\n",
    "                cost, grad =  self.gradient(X, Y)           \n",
    "                self.losses.append(cost)\n",
    "                self.W = self.W - self.alpha * grad             \n",
    "                if i % 500 == 0:                                   # not print all coz too long\n",
    "                    print(f\"Cost at iteration {i}\", cost)\n",
    "            print(f\"time taken: {time.time() - start_time}\")\n",
    "            \n",
    "        elif self.method == \"minibatch\":\n",
    "            start_time = time.time()\n",
    "            batch_size = int(0.5 * X.shape[0]) \n",
    "            for i in range(self.max_iter):\n",
    "                ix = np.random.randint(0, X.shape[0])              # with replacement\n",
    "                batch_X = X[ix:ix+batch_size]\n",
    "                batch_Y = Y[ix:ix+batch_size]\n",
    "                cost, grad = self.gradient(batch_X, batch_Y)       \n",
    "                self.losses.append(cost)\n",
    "                self.W = self.W - self.alpha * grad\n",
    "                if i % 500 == 0:\n",
    "                    print(f\"Cost at iteration {i}\", cost)\n",
    "            print(f\"time taken: {time.time() - start_time}\")\n",
    "            \n",
    "        elif self.method == \"sto\":\n",
    "            start_time = time.time()\n",
    "            for i in range(self.max_iter):\n",
    "                list_of_used_ix = []                      \n",
    "                idx = np.random.randint(X.shape[0])\n",
    "                \n",
    "                while i in list_of_used_ix:\n",
    "                    idx = np.random.randint(X.shape[0])\n",
    "                X_train = X[idx, :].reshape(1, -1)                \n",
    "                Y_train = Y[idx]\n",
    "                cost, grad = self.gradient(X_train, Y_train)\n",
    "                self.losses.append(cost)\n",
    "                self.W = self.W - self.alpha * grad\n",
    "                list_of_used_ix.append(i)\n",
    "                if len(list_of_used_ix) == X.shape[0]:\n",
    "                    list_of_used_ix = []\n",
    "                    \n",
    "                if i % 500 == 0:\n",
    "                    print(f\"Cost at iteration {i}\", cost)\n",
    "            print(f\"time taken: {time.time() - start_time}\")\n",
    "            \n",
    "        else:\n",
    "            raise ValueError('Method must be one of the followings: \"batch\", \"minibatch\" or \"sto\".')\n",
    "\n",
    "    \n",
    "    def gradient(self, X, Y):\n",
    "        m = X.shape[0]\n",
    "        h = self.h_theta(X, self.W)                  #h_theta นางคือ softmax(X @ W)\n",
    "        cost = - np.sum(Y*np.log(h)) / m            \n",
    "        error = h - Y\n",
    "        grad = self.softmax_grad(X, error)\n",
    "        return cost, grad\n",
    "\n",
    "    def softmax(self, theta_t_x):\n",
    "        return np.exp(theta_t_x) / np.sum(np.exp(theta_t_x), axis=1, keepdims=True)            \n",
    "\n",
    "    def softmax_grad(self, X, error):\n",
    "        return  X.T @ error                    \n",
    "\n",
    "    def h_theta(self, X, W):\n",
    "        return self.softmax(X @ W)\n",
    "    \n",
    "# step 3 : Predict\n",
    "    def predict(self, X_test):                        \n",
    "        return np.argmax(self.h_theta(X_test, self.W), axis=1)        \n",
    "    \n",
    "    def plot(self):\n",
    "        plt.plot(np.arange(len(self.losses)) , self.losses, label = \"Train Losses\")\n",
    "        plt.title(\"Losses\")\n",
    "        plt.xlabel(\"Epoch\")\n",
    "        plt.ylabel(\"Losses\")\n",
    "        plt.legend()"
   ]
  },
  {
   "cell_type": "code",
   "execution_count": 10,
   "metadata": {},
   "outputs": [
    {
     "name": "stdout",
     "output_type": "stream",
     "text": [
      "Cost at iteration 0 1.6174855294614363\n",
      "Cost at iteration 500 0.1639133733220364\n",
      "Cost at iteration 1000 0.11890942372762782\n",
      "Cost at iteration 1500 0.10073580009862391\n",
      "Cost at iteration 2000 0.09041973150345135\n",
      "Cost at iteration 2500 0.08354987935404572\n",
      "Cost at iteration 3000 0.0785338653663876\n",
      "Cost at iteration 3500 0.07464880524749794\n",
      "Cost at iteration 4000 0.07151539472087579\n",
      "Cost at iteration 4500 0.06891338095016676\n",
      "Cost at iteration 5000 0.06670484369449789\n",
      "Cost at iteration 5500 0.06479822076546153\n",
      "Cost at iteration 6000 0.06312983659858092\n",
      "Cost at iteration 6500 0.06165371427216379\n",
      "Cost at iteration 7000 0.060335618621572044\n",
      "Cost at iteration 7500 0.059149399214157294\n",
      "Cost at iteration 8000 0.05807465019371443\n",
      "Cost at iteration 8500 0.05709515839920089\n",
      "Cost at iteration 9000 0.056197841877668034\n",
      "Cost at iteration 9500 0.055372003961489336\n",
      "time taken: 0.6391687393188477\n",
      "\n",
      "=========Classification report=======\n",
      "Report:                precision    recall  f1-score   support\n",
      "\n",
      "           0       1.00      1.00      1.00        15\n",
      "           1       0.88      0.93      0.90        15\n",
      "           2       0.93      0.87      0.90        15\n",
      "\n",
      "    accuracy                           0.93        45\n",
      "   macro avg       0.93      0.93      0.93        45\n",
      "weighted avg       0.93      0.93      0.93        45\n",
      "\n"
     ]
    },
    {
     "data": {
      "image/png": "[encoded data removed]",
      "text/plain": [
       "<Figure size 432x288 with 1 Axes>"
      ]
     },
     "metadata": {
      "needs_background": "light"
     },
     "output_type": "display_data"
    }
   ],
   "source": [
    "# Try the model\n",
    "# Batch\n",
    "\n",
    "model = LogisticRegression(k, X_train.shape[1], \"batch\")\n",
    "model.fit(X_train, Y_train_encoded)\n",
    "yhat = model.predict(X_test)\n",
    "model.plot()\n",
    "\n",
    "print()\n",
    "print(\"=========Classification report=======\")\n",
    "print(\"Report: \", classification_report(y_test, yhat))"
   ]
  },
  {
   "cell_type": "code",
   "execution_count": 9,
   "metadata": {},
   "outputs": [
    {
     "name": "stdout",
     "output_type": "stream",
     "text": [
      "Cost at iteration 0 0.9967577322237853\n",
      "Cost at iteration 500 0.28402565821119136\n",
      "Cost at iteration 1000 0.17055748217628894\n",
      "Cost at iteration 1500 0.16516147265199652\n",
      "Cost at iteration 2000 0.12791400602212785\n",
      "Cost at iteration 2500 0.12666190918872755\n",
      "Cost at iteration 3000 0.08125472774896707\n",
      "Cost at iteration 3500 0.11260099333572016\n",
      "Cost at iteration 4000 0.04952242439747518\n",
      "Cost at iteration 4500 0.10923967322236379\n",
      "Cost at iteration 5000 0.10780055249157271\n",
      "Cost at iteration 5500 0.047190349624773885\n",
      "Cost at iteration 6000 0.08572896356259586\n",
      "Cost at iteration 6500 0.08542815377235226\n",
      "Cost at iteration 7000 0.10058803061890756\n",
      "Cost at iteration 7500 0.07769077307487618\n",
      "Cost at iteration 8000 0.07770307039060374\n",
      "Cost at iteration 8500 0.0836544291060811\n",
      "Cost at iteration 9000 0.08496036645098502\n",
      "Cost at iteration 9500 0.05979043582082139\n",
      "time taken: 0.6152670383453369\n",
      "\n",
      "=========Classification report=======\n",
      "Report:                precision    recall  f1-score   support\n",
      "\n",
      "           0       1.00      1.00      1.00        15\n",
      "           1       0.88      1.00      0.94        15\n",
      "           2       1.00      0.87      0.93        15\n",
      "\n",
      "    accuracy                           0.96        45\n",
      "   macro avg       0.96      0.96      0.96        45\n",
      "weighted avg       0.96      0.96      0.96        45\n",
      "\n"
     ]
    },
    {
     "data": {
      "image/png": "[encoded data removed]",
      "text/plain": [
       "<Figure size 432x288 with 1 Axes>"
      ]
     },
     "metadata": {
      "needs_background": "light"
     },
     "output_type": "display_data"
    }
   ],
   "source": [
    "# Minibatch\n",
    "model = LogisticRegression(k, X_train.shape[1], \"minibatch\")\n",
    "model.fit(X_train, Y_train_encoded)\n",
    "yhat = model.predict(X_test)\n",
    "model.plot()\n",
    "\n",
    "print()\n",
    "print(\"=========Classification report=======\")\n",
    "print(\"Report: \", classification_report(y_test, yhat))    # swing more than batch but batch takes more time"
   ]
  },
  {
   "cell_type": "code",
   "execution_count": 6,
   "metadata": {},
   "outputs": [
    {
     "name": "stdout",
     "output_type": "stream",
     "text": [
      "Cost at iteration 0 2.066959535648974\n",
      "Cost at iteration 500 1.446067396556152\n",
      "Cost at iteration 1000 0.9337209818197224\n",
      "Cost at iteration 1500 0.32442145860775\n",
      "Cost at iteration 2000 0.4954666014234553\n",
      "Cost at iteration 2500 0.6711642814633625\n",
      "Cost at iteration 3000 0.5466034695478044\n",
      "Cost at iteration 3500 0.1598614504908087\n",
      "Cost at iteration 4000 0.1650764385447114\n",
      "Cost at iteration 4500 0.1628603858689469\n",
      "Cost at iteration 5000 0.8792434702784523\n",
      "Cost at iteration 5500 0.8986270431461163\n",
      "Cost at iteration 6000 0.13825510150968276\n",
      "Cost at iteration 6500 0.8679195859850072\n",
      "Cost at iteration 7000 0.8470638589570955\n",
      "Cost at iteration 7500 0.1869065728784159\n",
      "Cost at iteration 8000 0.10987997708016775\n",
      "Cost at iteration 8500 0.30093963734523577\n",
      "Cost at iteration 9000 0.40123916941780696\n",
      "Cost at iteration 9500 0.10739928994915801\n",
      "time taken: 0.4962456226348877\n",
      "\n",
      "=========Classification report=======\n",
      "Report:                precision    recall  f1-score   support\n",
      "\n",
      "           0       1.00      1.00      1.00        15\n",
      "           1       1.00      0.93      0.97        15\n",
      "           2       0.94      1.00      0.97        15\n",
      "\n",
      "    accuracy                           0.98        45\n",
      "   macro avg       0.98      0.98      0.98        45\n",
      "weighted avg       0.98      0.98      0.98        45\n",
      "\n"
     ]
    },
    {
     "data": {
      "image/png": "[encoded data removed]",
      "text/plain": [
       "<Figure size 432x288 with 1 Axes>"
      ]
     },
     "metadata": {
      "needs_background": "light"
     },
     "output_type": "display_data"
    }
   ],
   "source": [
    "# Stochastic\n",
    "model = LogisticRegression(k, X_train.shape[1], \"sto\")\n",
    "model.fit(X_train, Y_train_encoded)\n",
    "yhat = model.predict(X_test)\n",
    "model.plot()\n",
    "\n",
    "print()\n",
    "print(\"=========Classification report=======\")\n",
    "print(\"Report: \", classification_report(y_test, yhat))"
   ]
  },
  {
   "cell_type": "code",
   "execution_count": 7,
   "metadata": {},
   "outputs": [
    {
     "ename": "ValueError",
     "evalue": "Method must be one of the followings: \"batch\", \"minibatch\" or \"sto\".",
     "output_type": "error",
     "traceback": [
      "\u001b[0;31m---------------------------------------------------------------------------\u001b[0m",
      "\u001b[0;31mValueError\u001b[0m                                Traceback (most recent call last)",
      "\u001b[0;32m<ipython-input-7-d7774e0e8af9>\u001b[0m in \u001b[0;36m<module>\u001b[0;34m\u001b[0m\n\u001b[1;32m      1\u001b[0m \u001b[0;31m# else method\u001b[0m\u001b[0;34m\u001b[0m\u001b[0;34m\u001b[0m\u001b[0;34m\u001b[0m\u001b[0m\n\u001b[1;32m      2\u001b[0m \u001b[0mmodel\u001b[0m \u001b[0;34m=\u001b[0m \u001b[0mLogisticRegression\u001b[0m\u001b[0;34m(\u001b[0m\u001b[0mk\u001b[0m\u001b[0;34m,\u001b[0m \u001b[0mX_train\u001b[0m\u001b[0;34m.\u001b[0m\u001b[0mshape\u001b[0m\u001b[0;34m[\u001b[0m\u001b[0;36m1\u001b[0m\u001b[0;34m]\u001b[0m\u001b[0;34m,\u001b[0m \u001b[0;34m\"I am not batch\"\u001b[0m\u001b[0;34m)\u001b[0m\u001b[0;34m\u001b[0m\u001b[0;34m\u001b[0m\u001b[0m\n\u001b[0;32m----> 3\u001b[0;31m \u001b[0mmodel\u001b[0m\u001b[0;34m.\u001b[0m\u001b[0mfit\u001b[0m\u001b[0;34m(\u001b[0m\u001b[0mX_train\u001b[0m\u001b[0;34m,\u001b[0m \u001b[0mY_train_encoded\u001b[0m\u001b[0;34m)\u001b[0m\u001b[0;34m\u001b[0m\u001b[0;34m\u001b[0m\u001b[0m\n\u001b[0m\u001b[1;32m      4\u001b[0m \u001b[0myhat\u001b[0m \u001b[0;34m=\u001b[0m \u001b[0mmodel\u001b[0m\u001b[0;34m.\u001b[0m\u001b[0mpredict\u001b[0m\u001b[0;34m(\u001b[0m\u001b[0mX_test\u001b[0m\u001b[0;34m)\u001b[0m\u001b[0;34m\u001b[0m\u001b[0;34m\u001b[0m\u001b[0m\n\u001b[1;32m      5\u001b[0m \u001b[0mmodel\u001b[0m\u001b[0;34m.\u001b[0m\u001b[0mplot\u001b[0m\u001b[0;34m(\u001b[0m\u001b[0;34m)\u001b[0m\u001b[0;34m\u001b[0m\u001b[0;34m\u001b[0m\u001b[0m\n",
      "\u001b[0;32m<ipython-input-3-b06d85c7ec3a>\u001b[0m in \u001b[0;36mfit\u001b[0;34m(self, X, Y)\u001b[0m\n\u001b[1;32m     62\u001b[0m \u001b[0;34m\u001b[0m\u001b[0m\n\u001b[1;32m     63\u001b[0m         \u001b[0;32melse\u001b[0m\u001b[0;34m:\u001b[0m\u001b[0;34m\u001b[0m\u001b[0;34m\u001b[0m\u001b[0m\n\u001b[0;32m---> 64\u001b[0;31m             \u001b[0;32mraise\u001b[0m \u001b[0mValueError\u001b[0m\u001b[0;34m(\u001b[0m\u001b[0;34m'Method must be one of the followings: \"batch\", \"minibatch\" or \"sto\".'\u001b[0m\u001b[0;34m)\u001b[0m\u001b[0;34m\u001b[0m\u001b[0;34m\u001b[0m\u001b[0m\n\u001b[0m\u001b[1;32m     65\u001b[0m \u001b[0;34m\u001b[0m\u001b[0m\n\u001b[1;32m     66\u001b[0m \u001b[0;34m\u001b[0m\u001b[0m\n",
      "\u001b[0;31mValueError\u001b[0m: Method must be one of the followings: \"batch\", \"minibatch\" or \"sto\"."
     ]
    }
   ],
   "source": [
    "# else method\n",
    "model = LogisticRegression(k, X_train.shape[1], \"I am not batch\")\n",
    "model.fit(X_train, Y_train_encoded)\n",
    "yhat = model.predict(X_test)\n",
    "model.plot()\n",
    "\n",
    "print()\n",
    "print(\"=========Classification report=======\")\n",
    "print(\"Report: \", classification_report(y_test, yhat))"
   ]
  },
  {
   "cell_type": "code",
   "execution_count": null,
   "metadata": {},
   "outputs": [],
   "source": []
  }
 ],
 "metadata": {
  "kernelspec": {
   "display_name": "Python 3",
   "language": "python",
   "name": "python3"
  },
  "language_info": {
   "codemirror_mode": {
    "name": "ipython",
    "version": 3
   },
   "file_extension": ".py",
   "mimetype": "text/x-python",
   "name": "python",
   "nbconvert_exporter": "python",
   "pygments_lexer": "ipython3",
   "version": "3.8.3"
  }
 },
 "nbformat": 4,
 "nbformat_minor": 5
}
