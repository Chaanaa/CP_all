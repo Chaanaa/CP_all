{
 "cells": [
  {
   "cell_type": "markdown",
   "metadata": {},
   "source": [
    "Modify the Gradient Boosting scratch code in our lecture such that:\n",
    "- Notice that we are still using max_depth = 1.  Attempt to tweak min_samples_split, max_depth for the regression and see whether we can achieve better mse on our boston data\n",
    "- Notice that we only write scratch code for gradient boosting for regression, add some code so that it also works for binary classification.  Load the breast cancer data from sklearn and see that it works.\n",
    "- Further change the code so that it works for multiclass classification.  Load the digits data from sklearn and see that it works\n",
    "- Put everything into class"
   ]
  },
  {
   "cell_type": "code",
   "execution_count": 1,
   "metadata": {},
   "outputs": [],
   "source": [
    "from scipy.special import expit\n",
    "from sklearn.tree import DecisionTreeRegressor\n",
    "from sklearn.dummy import DummyRegressor\n",
    "import numpy as np\n",
    "\n",
    "\n",
    "class GradientBoosting:\n",
    "    def __init__(self, S=5, learning_rate=1, max_depth = 1, min_samples_split = 2, regression=True, tol=1e-4):\n",
    "        self.S = S\n",
    "        self.learning_rate = learning_rate\n",
    "        self.max_depth = max_depth\n",
    "        self.min_samples_split = min_samples_split\n",
    "        self.regression=regression\n",
    "            \n",
    "        #initialize regression trees\n",
    "        tree_params = {'max_depth': self.max_depth,\n",
    "                      'min_samples_split': self.min_samples_split}\n",
    "        self.models = [DecisionTreeRegressor(**tree_params) for _ in range(S)]        \n",
    "        first_model = DummyRegressor(strategy='mean')\n",
    "        self.models.insert(0, first_model)\n",
    "        \n",
    "    def grad(self, y, h):\n",
    "        return y - h\n",
    "      \n",
    "    # X_train\n",
    "    def fit(self, X, y): \n",
    "        self.models[0].fit(X, y)       #fit the first model\n",
    "        \n",
    "        for i in range(self.S):\n",
    "            #predict\n",
    "            yhat = self.predict(X, self.models[:i+1], with_argmax=False)\n",
    "            \n",
    "            #get the gradient\n",
    "            gradient = self.grad(y, yhat)\n",
    "            \n",
    "            #fit the next model with gradient\n",
    "            self.models[i+1].fit(X, gradient)\n",
    "    \n",
    "    def predict(self, X, models=None, with_argmax=True):\n",
    "        if models is None:\n",
    "            models = self.models\n",
    "        h0 = models[0].predict(X)         #first use the dummy model  !\n",
    "        boosting = sum(self.learning_rate * model.predict(X) for model in models[1:])\n",
    "        yhat = h0 + boosting\n",
    "        \n",
    "        if not self.regression:           #turn into probability using softmax --> for binary, multi classi\n",
    "            yhat = np.exp(yhat) / np.sum(np.exp(yhat), axis=1, keepdims=True)\n",
    "            if with_argmax:\n",
    "                yhat = np.argmax(yhat, axis=1)\n",
    "        return yhat"
   ]
  },
  {
   "cell_type": "code",
   "execution_count": 2,
   "metadata": {},
   "outputs": [
    {
     "name": "stdout",
     "output_type": "stream",
     "text": [
      "MSE:  7.780469988302177\n",
      "Sklearn MSE:  12.945557601580587\n"
     ]
    }
   ],
   "source": [
    "# 1 Regression\n",
    "\n",
    "from sklearn.datasets import load_boston\n",
    "from sklearn.metrics import mean_squared_error\n",
    "from sklearn.ensemble import GradientBoostingRegressor\n",
    "from sklearn.model_selection import train_test_split\n",
    "\n",
    "X, y = load_boston(return_X_y=True)\n",
    "X_train, X_test, y_train, y_test = train_test_split(X, y, test_size=0.3, random_state=42)\n",
    "n_estimators = 200\n",
    "                                                  #change max_depth\n",
    "model = GradientBoosting(S=200, learning_rate=0.1, max_depth = 3, \n",
    "                 min_samples_split = 2,\n",
    "                 regression=True, tol=1e-4)\n",
    "#fit the model\n",
    "model.fit(X_train, y_train)\n",
    "#predict\n",
    "y_pred = model.predict(X_test)\n",
    "#print metrics\n",
    "print(\"MSE: \", mean_squared_error(y_test, y_pred))\n",
    "\n",
    "\n",
    "#======SKlearn=======\n",
    "# Compare to sklearn: ls is the same as MSE\n",
    "sklearn_model = GradientBoostingRegressor(\n",
    "    n_estimators=n_estimators,\n",
    "    learning_rate = 0.1,\n",
    "    max_depth=1,\n",
    "    loss='ls')\n",
    "\n",
    "y_pred_sk = sklearn_model.fit(X_train, y_train).predict(X_test)\n",
    "\n",
    "print(\"Sklearn MSE: \", mean_squared_error(y_test, y_pred_sk))\n",
    "\n",
    "\n",
    "## increase max_depth = less error ##"
   ]
  },
  {
   "cell_type": "code",
   "execution_count": 3,
   "metadata": {},
   "outputs": [
    {
     "name": "stdout",
     "output_type": "stream",
     "text": [
      "Accuracy:  0.9649122807017544\n",
      "Sklearn accuracy:  0.9649122807017544\n"
     ]
    }
   ],
   "source": [
    "# 2 Binary classification\n",
    "\n",
    "from sklearn.datasets import load_breast_cancer\n",
    "from sklearn.metrics import accuracy_score\n",
    "from sklearn.ensemble import GradientBoostingClassifier\n",
    "\n",
    "X, y = load_breast_cancer(return_X_y=True)\n",
    "X_train, X_test, y_train, y_test = train_test_split(X, y, test_size=0.3, random_state=42)\n",
    "\n",
    "y_train_encoded = np.zeros((y_train.shape[0], len(set(y))))\n",
    "#print(y_train_encoded)\n",
    "\n",
    "######### !!!!! #########\n",
    "for each_class in range(len(set(y))):\n",
    "    cond = y_train==each_class\n",
    "    y_train_encoded[np.where(cond), each_class] = 1\n",
    "\n",
    "model = GradientBoosting(S=200, learning_rate=0.1, max_depth = 3, \n",
    "                 min_samples_split = 2,\n",
    "                 regression=False)\n",
    "#fit the model\n",
    "model.fit(X_train, y_train_encoded)\n",
    "#predict\n",
    "y_pred = model.predict(X_test)\n",
    "\n",
    "# print metrics\n",
    "print(\"Accuracy: \", accuracy_score(y_test, y_pred))\n",
    "\n",
    "\n",
    "#======SKlearn=======\n",
    "#Compare to sklearn: ls is the same as our accuracy\n",
    "sklearn_model = GradientBoostingClassifier(\n",
    "    n_estimators=n_estimators,\n",
    "    learning_rate = 0.1,\n",
    "    max_depth=1)\n",
    "\n",
    "y_pred_sk = sklearn_model.fit(X_train, y_train).predict(X_test)\n",
    "\n",
    "print(\"Sklearn accuracy: \", accuracy_score(y_test, y_pred_sk))\n",
    "\n",
    "## increase max_depth = less error ##"
   ]
  },
  {
   "cell_type": "code",
   "execution_count": 4,
   "metadata": {},
   "outputs": [
    {
     "name": "stdout",
     "output_type": "stream",
     "text": [
      "Accuracy:  0.9314814814814815\n",
      "Sklearn accuracy:  0.9481481481481482\n"
     ]
    }
   ],
   "source": [
    "# 3 Multiclass classification\n",
    "\n",
    "from sklearn.datasets import load_digits\n",
    "from sklearn.metrics import accuracy_score\n",
    "from sklearn.ensemble import GradientBoostingClassifier\n",
    "\n",
    "X, y = load_digits(return_X_y=True)\n",
    "X_train, X_test, y_train, y_test = train_test_split(X, y, test_size=0.3, random_state=42)\n",
    "\n",
    "y_train_encoded = np.zeros((y_train.shape[0], len(set(y))))\n",
    "\n",
    "for each_class in range(len(set(y))):\n",
    "    cond = y_train==each_class\n",
    "    y_train_encoded[np.where(cond), each_class] = 1\n",
    "\n",
    "model = GradientBoosting(S=200, learning_rate=0.1, max_depth = 3, \n",
    "                 min_samples_split = 2,\n",
    "                 regression=False)\n",
    "\n",
    "#fit model\n",
    "model.fit(X_train, y_train_encoded)\n",
    "#predict\n",
    "y_pred = model.predict(X_test)\n",
    "#print metrics\n",
    "print(\"Accuracy: \", accuracy_score(y_test, y_pred))\n",
    "\n",
    "\n",
    "#======SKlearn=======\n",
    "#Compare to sklearn: ls is the same as our accuracy\n",
    "sklearn_model = GradientBoostingClassifier(\n",
    "    n_estimators=n_estimators,\n",
    "    learning_rate = 0.1,\n",
    "    max_depth=1)\n",
    "\n",
    "y_pred_sk = sklearn_model.fit(X_train, y_train).predict(X_test)\n",
    "\n",
    "print(\"Sklearn accuracy: \", accuracy_score(y_test, y_pred_sk))\n",
    "\n",
    "## increase max_depth = less error ##"
   ]
  },
  {
   "cell_type": "code",
   "execution_count": null,
   "metadata": {},
   "outputs": [],
   "source": []
  }
 ],
 "metadata": {
  "kernelspec": {
   "display_name": "Python 3 (ipykernel)",
   "language": "python",
   "name": "python3"
  },
  "language_info": {
   "codemirror_mode": {
    "name": "ipython",
    "version": 3
   },
   "file_extension": ".py",
   "mimetype": "text/x-python",
   "name": "python",
   "nbconvert_exporter": "python",
   "pygments_lexer": "ipython3",
   "version": "3.8.3"
  }
 },
 "nbformat": 4,
 "nbformat_minor": 4
}
